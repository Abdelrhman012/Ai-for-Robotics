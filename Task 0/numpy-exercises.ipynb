{
 "cells": [
  {
   "cell_type": "markdown",
   "metadata": {},
   "source": [
    "# NumPy Practice\n",
    "\n",
    "This notebook offers a set of exercises for different tasks with NumPy.\n",
    "\n",
    "It should be noted there may be more than one different way to answer a question or complete an exercise.\n",
    "\n",
    "Different tasks will be detailed by comments or text.\n",
    "\n",
    "For further reference and resources, it's advised to check out the [NumPy documentation](https://numpy.org/devdocs/user/index.html).\n",
    "\n",
    "And if you get stuck, try searching for a question in the following format: \"how to do XYZ with numpy\", where XYZ is the function you want to leverage from NumPy."
   ]
  },
  {
   "cell_type": "code",
   "execution_count": 329,
   "metadata": {},
   "outputs": [],
   "source": [
    "# Import NumPy as its abbreviation 'np'\n",
    "import numpy as np"
   ]
  },
  {
   "cell_type": "code",
   "execution_count": 330,
   "metadata": {},
   "outputs": [],
   "source": [
    "# Create a 1-dimensional NumPy array using np.array()\n",
    "arr_1d = np.array([2,4,-5,3])\n",
    "\n",
    "# Create a 2-dimensional NumPy array using np.array()\n",
    "arr_2d = np.array([[1, 2], [3, 4]])\n",
    "\n",
    "\n",
    "# Create a 3-dimensional Numpy array using np.array()\n",
    "arr_3d =  np.array([[[1, 2], [-1, 4]], [[4,-1], [7, 8]]])\n"
   ]
  },
  {
   "cell_type": "markdown",
   "metadata": {},
   "source": [
    "Now we've you've created 3 different arrays, let's find details about them.\n",
    "\n",
    "Find the shape, number of dimensions, data type, size and type of each array."
   ]
  },
  {
   "cell_type": "code",
   "execution_count": 331,
   "metadata": {},
   "outputs": [
    {
     "name": "stdout",
     "output_type": "stream",
     "text": [
      "(4,)\n",
      "1\n",
      "int32\n",
      "4\n",
      "<class 'numpy.ndarray'>\n"
     ]
    }
   ],
   "source": [
    "# Attributes of 1-dimensional array (shape, \n",
    "# number of dimensions, data type, size and type)\n",
    "print(arr_1d.shape)\n",
    "print(arr_1d.ndim)\n",
    "print(arr_1d.dtype)\n",
    "print(arr_1d.size)\n",
    "print(type(arr_1d))"
   ]
  },
  {
   "cell_type": "code",
   "execution_count": 332,
   "metadata": {},
   "outputs": [
    {
     "name": "stdout",
     "output_type": "stream",
     "text": [
      "(2, 2)\n",
      "2\n",
      "int32\n",
      "4\n",
      "<class 'numpy.ndarray'>\n"
     ]
    }
   ],
   "source": [
    "# Attributes of 2-dimensional array\n",
    "print(arr_2d.shape)\n",
    "print(arr_2d.ndim)\n",
    "print(arr_2d.dtype)\n",
    "print(arr_2d.size)\n",
    "print(type(arr_2d))"
   ]
  },
  {
   "cell_type": "code",
   "execution_count": 333,
   "metadata": {},
   "outputs": [
    {
     "name": "stdout",
     "output_type": "stream",
     "text": [
      "(2, 2, 2)\n",
      "3\n",
      "int32\n",
      "8\n",
      "<class 'numpy.ndarray'>\n"
     ]
    }
   ],
   "source": [
    "# Attributes of 3-dimensional array\n",
    "print(arr_3d.shape)\n",
    "print(arr_3d.ndim)\n",
    "print(arr_3d.dtype)\n",
    "print(arr_3d.size)\n",
    "print(type(arr_3d))"
   ]
  },
  {
   "cell_type": "code",
   "execution_count": 334,
   "metadata": {},
   "outputs": [
    {
     "name": "stdout",
     "output_type": "stream",
     "text": [
      "   0  1\n",
      "0  1  2\n",
      "1  3  4\n"
     ]
    }
   ],
   "source": [
    "# Import pandas and create a DataFrame out of one\n",
    "# of the arrays you've created\n",
    "import pandas as pd\n",
    "arr_df = pd.DataFrame(arr_2d)\n",
    "print(arr_df)"
   ]
  },
  {
   "cell_type": "code",
   "execution_count": 335,
   "metadata": {},
   "outputs": [
    {
     "name": "stdout",
     "output_type": "stream",
     "text": [
      "[[1. 1.]\n",
      " [1. 1.]\n",
      " [1. 1.]\n",
      " [1. 1.]\n",
      " [1. 1.]\n",
      " [1. 1.]\n",
      " [1. 1.]\n",
      " [1. 1.]\n",
      " [1. 1.]\n",
      " [1. 1.]]\n"
     ]
    }
   ],
   "source": [
    "# Create an array of shape (10, 2) with only ones\n",
    "arr4 = np.ones((10,2))\n",
    "print(arr4)"
   ]
  },
  {
   "cell_type": "code",
   "execution_count": 336,
   "metadata": {},
   "outputs": [
    {
     "name": "stdout",
     "output_type": "stream",
     "text": [
      "[[[0. 0. 0.]\n",
      "  [0. 0. 0.]]\n",
      "\n",
      " [[0. 0. 0.]\n",
      "  [0. 0. 0.]]\n",
      "\n",
      " [[0. 0. 0.]\n",
      "  [0. 0. 0.]]\n",
      "\n",
      " [[0. 0. 0.]\n",
      "  [0. 0. 0.]]\n",
      "\n",
      " [[0. 0. 0.]\n",
      "  [0. 0. 0.]]\n",
      "\n",
      " [[0. 0. 0.]\n",
      "  [0. 0. 0.]]\n",
      "\n",
      " [[0. 0. 0.]\n",
      "  [0. 0. 0.]]]\n"
     ]
    }
   ],
   "source": [
    "# Create an array of shape (7, 2, 3) of only zeros\n",
    "arr5 = np.zeros((7,2,3))\n",
    "print(arr5)\n"
   ]
  },
  {
   "cell_type": "code",
   "execution_count": 337,
   "metadata": {},
   "outputs": [
    {
     "name": "stdout",
     "output_type": "stream",
     "text": [
      "[ 0  3  6  9 12 15 18 21 24 27 30 33 36 39 42 45 48 51 54 57 60 63 66 69\n",
      " 72 75 78 81 84 87 90 93 96 99]\n"
     ]
    }
   ],
   "source": [
    "# Create an array within a range of 0 and 100 with step 3\n",
    "arr6 = np.arange(0, 100, 3)\n",
    "print(arr6)\n"
   ]
  },
  {
   "cell_type": "code",
   "execution_count": 338,
   "metadata": {},
   "outputs": [
    {
     "name": "stdout",
     "output_type": "stream",
     "text": [
      "[[8.16385735 9.67973765]\n",
      " [0.88408223 7.91817839]\n",
      " [5.89955897 4.80045967]\n",
      " [4.20535779 7.84668264]\n",
      " [6.39361357 8.05044668]\n",
      " [9.03151059 6.17263712]\n",
      " [9.80462725 6.0808785 ]]\n"
     ]
    }
   ],
   "source": [
    "# Create a random array with numbers between 0 and 10 of size (7, 2)\n",
    "arr7 = np.random.rand(7, 2) * 10\n",
    "print(arr7)"
   ]
  },
  {
   "cell_type": "code",
   "execution_count": 339,
   "metadata": {},
   "outputs": [
    {
     "name": "stdout",
     "output_type": "stream",
     "text": [
      "[[0.63664432 0.55481561 0.09100209 0.72639703 0.54744631]\n",
      " [0.45091045 0.91047128 0.29795945 0.52360228 0.69764187]\n",
      " [0.79647178 0.45934681 0.84209142 0.76891774 0.06623598]]\n"
     ]
    }
   ],
   "source": [
    "# Create a random array of floats between 0 & 1 of shape (3, 5)\n",
    "arr8 = np.random.rand(3, 5) * 1\n",
    "print(arr8)"
   ]
  },
  {
   "cell_type": "code",
   "execution_count": 340,
   "metadata": {},
   "outputs": [
    {
     "name": "stdout",
     "output_type": "stream",
     "text": [
      "[[3.74540119 9.50714306 7.31993942 5.98658484 1.5601864  1.5599452 ]\n",
      " [0.58083612 8.66176146 6.01115012 7.08072578 0.20584494 9.69909852]\n",
      " [8.32442641 2.12339111 1.81824967 1.8340451  3.04242243 5.24756432]\n",
      " [4.31945019 2.9122914  6.11852895 1.39493861 2.92144649 3.66361843]]\n"
     ]
    }
   ],
   "source": [
    "# Set the random seed to 42\n",
    "np.random.seed(42)\n",
    "\n",
    "# Create a random array of numbers between 0 & 10 of size (4, 6)\n",
    "arr8 = np.random.rand(4, 6) * 10\n",
    "print(arr8)"
   ]
  },
  {
   "cell_type": "markdown",
   "metadata": {},
   "source": [
    "Run the cell above again, what happens?\n",
    "\n",
    "Are the numbers in the array different or the same? Why do think this is?"
   ]
  },
  {
   "cell_type": "code",
   "execution_count": 341,
   "metadata": {},
   "outputs": [
    {
     "name": "stdout",
     "output_type": "stream",
     "text": [
      "[[3 7 4 9 3 5 3]\n",
      " [7 5 9 7 2 4 9]\n",
      " [2 9 5 2 4 7 8]]\n",
      "unique nums are: [2 3 4 5 7 8 9]\n"
     ]
    }
   ],
   "source": [
    "# Create an array of random numbers between 1 & 10 of size (3, 7)\n",
    "# and save it to a variable\n",
    "arr9 = np.random.randint(1, 10, size=(3, 7))\n",
    "print(arr9)\n",
    "\n",
    "# Find the unique numbers in the array you just created\n",
    "unique_nums = np.unique(arr9)\n",
    "print('unique nums are:' , unique_nums)\n"
   ]
  },
  {
   "cell_type": "code",
   "execution_count": 342,
   "metadata": {},
   "outputs": [
    {
     "name": "stdout",
     "output_type": "stream",
     "text": [
      "[3 7 4 9 3 5 3]\n"
     ]
    }
   ],
   "source": [
    "# Find the 0'th index of the latest array you created\n",
    "print(arr9[0])"
   ]
  },
  {
   "cell_type": "code",
   "execution_count": 343,
   "metadata": {},
   "outputs": [
    {
     "name": "stdout",
     "output_type": "stream",
     "text": [
      "[[3 7 4 9 3 5 3]\n",
      " [7 5 9 7 2 4 9]]\n"
     ]
    }
   ],
   "source": [
    "# Get the first 2 rows of latest array you created\n",
    "print(arr9[0:2])"
   ]
  },
  {
   "cell_type": "code",
   "execution_count": 344,
   "metadata": {},
   "outputs": [
    {
     "name": "stdout",
     "output_type": "stream",
     "text": [
      "[[3 7]\n",
      " [7 5]]\n"
     ]
    }
   ],
   "source": [
    "# Get the first 2 values of the first 2 rows of the latest array\n",
    "print(arr9[0:2,0:2])"
   ]
  },
  {
   "cell_type": "code",
   "execution_count": 345,
   "metadata": {},
   "outputs": [
    {
     "name": "stdout",
     "output_type": "stream",
     "text": [
      "[[0.34388521 9.09320402 2.58779982 6.62522284 3.11711076]\n",
      " [5.20068021 5.46710279 1.84854456 9.69584628 7.75132823]\n",
      " [9.39498942 8.9482735  5.97899979 9.21874235 0.88492502]] [[1. 1. 1. 1. 1.]\n",
      " [1. 1. 1. 1. 1.]\n",
      " [1. 1. 1. 1. 1.]]\n"
     ]
    }
   ],
   "source": [
    "# Create a random array of numbers between 0 & 10 and an array of ones\n",
    "# both of size (3, 5), save them both to variables\n",
    "arr10 = np.random.rand(3, 5) * 10\n",
    "arr11 = np.ones((3,5))\n",
    "print(arr10,arr11)"
   ]
  },
  {
   "cell_type": "code",
   "execution_count": 346,
   "metadata": {},
   "outputs": [
    {
     "name": "stdout",
     "output_type": "stream",
     "text": [
      "[[ 1.34388521 10.09320402  3.58779982  7.62522284  4.11711076]\n",
      " [ 6.20068021  6.46710279  2.84854456 10.69584628  8.75132823]\n",
      " [10.39498942  9.9482735   6.97899979 10.21874235  1.88492502]]\n"
     ]
    }
   ],
   "source": [
    "# Add the two arrays together\n",
    "arr12 = arr10 + arr11\n",
    "print(arr12)"
   ]
  },
  {
   "cell_type": "code",
   "execution_count": 347,
   "metadata": {},
   "outputs": [
    {
     "name": "stdout",
     "output_type": "stream",
     "text": [
      "[[1.95982862 0.45227289 3.25330331]\n",
      " [3.8867729  2.71349032 8.28737509]\n",
      " [3.56753327 2.8093451  5.42696083]\n",
      " [1.40924225 8.02196981 0.74550644]\n",
      " [9.86886937 7.72244769 1.98715682]]\n"
     ]
    }
   ],
   "source": [
    "# Create another array of ones of shape (5, 3)\n",
    "arr13 = np.random.rand(5, 3) * 10\n",
    "print(arr13)"
   ]
  },
  {
   "cell_type": "code",
   "execution_count": 348,
   "metadata": {},
   "outputs": [
    {
     "ename": "ValueError",
     "evalue": "operands could not be broadcast together with shapes (5,3) (3,5) ",
     "output_type": "error",
     "traceback": [
      "\u001b[1;31m---------------------------------------------------------------------------\u001b[0m",
      "\u001b[1;31mValueError\u001b[0m                                Traceback (most recent call last)",
      "\u001b[1;32md:\\SBME\\SBME 4\\Robotics\\Tasks\\Task 0\\numpy-exercises.ipynb Cell 23\u001b[0m line \u001b[0;36m2\n\u001b[0;32m      <a href='vscode-notebook-cell:/d%3A/SBME/SBME%204/Robotics/Tasks/Task%200/numpy-exercises.ipynb#X31sZmlsZQ%3D%3D?line=0'>1</a>\u001b[0m \u001b[39m# Try add the array of ones and the other most recent array together\u001b[39;00m\n\u001b[1;32m----> <a href='vscode-notebook-cell:/d%3A/SBME/SBME%204/Robotics/Tasks/Task%200/numpy-exercises.ipynb#X31sZmlsZQ%3D%3D?line=1'>2</a>\u001b[0m arr14 \u001b[39m=\u001b[39m arr13 \u001b[39m+\u001b[39;49m arr12\n",
      "\u001b[1;31mValueError\u001b[0m: operands could not be broadcast together with shapes (5,3) (3,5) "
     ]
    }
   ],
   "source": [
    "# Try add the array of ones and the other most recent array together\n",
    "arr14 = arr13 + arr12"
   ]
  },
  {
   "cell_type": "markdown",
   "metadata": {},
   "source": [
    "When you try the last cell, it produces an error. Why do think this is?\n",
    "\n",
    "How would you fix it?"
   ]
  },
  {
   "cell_type": "code",
   "execution_count": 349,
   "metadata": {},
   "outputs": [],
   "source": [
    "# Create another array of ones of shape (3, 5)\n",
    "arr15 = np.ones((3,5))\n"
   ]
  },
  {
   "cell_type": "code",
   "execution_count": 350,
   "metadata": {},
   "outputs": [
    {
     "name": "stdout",
     "output_type": "stream",
     "text": [
      "[[ 0.95982862 -0.54772711  2.25330331  2.8867729   1.71349032]\n",
      " [ 7.28737509  2.56753327  1.8093451   4.42696083  0.40924225]\n",
      " [ 7.02196981 -0.25449356  8.86886937  6.72244769  0.98715682]]\n"
     ]
    }
   ],
   "source": [
    "# Subtract the new array of ones from the other most recent array\n",
    "arr13 = arr13.reshape(3,5)\n",
    "arr16 = arr13 - arr15\n",
    "print(arr16)"
   ]
  },
  {
   "cell_type": "code",
   "execution_count": 351,
   "metadata": {},
   "outputs": [
    {
     "name": "stdout",
     "output_type": "stream",
     "text": [
      "[[ 0.95982862 -0.54772711  2.25330331  2.8867729   1.71349032]\n",
      " [ 7.28737509  2.56753327  1.8093451   4.42696083  0.40924225]\n",
      " [ 7.02196981 -0.25449356  8.86886937  6.72244769  0.98715682]]\n"
     ]
    }
   ],
   "source": [
    "# Multiply the ones array with the latest array\n",
    "arr17 = arr16 * arr15\n",
    "print(arr17)"
   ]
  },
  {
   "cell_type": "code",
   "execution_count": 352,
   "metadata": {},
   "outputs": [
    {
     "name": "stdout",
     "output_type": "stream",
     "text": [
      "[[9.21270988e-01 3.00004988e-01 5.07737580e+00 8.33345776e+00\n",
      "  2.93604907e+00]\n",
      " [5.31058357e+01 6.59222708e+00 3.27372968e+00 1.95979822e+01\n",
      "  1.67479219e-01]\n",
      " [4.93080600e+01 6.47669737e-02 7.86568438e+01 4.51913030e+01\n",
      "  9.74478578e-01]]\n"
     ]
    }
   ],
   "source": [
    "# Take the latest array to the power of 2 using '**'\n",
    "arr18=arr17**2\n",
    "print(arr18)"
   ]
  },
  {
   "cell_type": "code",
   "execution_count": 353,
   "metadata": {},
   "outputs": [
    {
     "name": "stdout",
     "output_type": "stream",
     "text": [
      "[[9.21270988e-01 3.00004988e-01 5.07737580e+00 8.33345776e+00\n",
      "  2.93604907e+00]\n",
      " [5.31058357e+01 6.59222708e+00 3.27372968e+00 1.95979822e+01\n",
      "  1.67479219e-01]\n",
      " [4.93080600e+01 6.47669737e-02 7.86568438e+01 4.51913030e+01\n",
      "  9.74478578e-01]]\n"
     ]
    }
   ],
   "source": [
    "# Do the same thing with np.square()\n",
    "arr19 = np.square(arr17)\n",
    "print(arr19)"
   ]
  },
  {
   "cell_type": "code",
   "execution_count": 354,
   "metadata": {},
   "outputs": [
    {
     "name": "stdout",
     "output_type": "stream",
     "text": [
      "18.300057656614815\n"
     ]
    }
   ],
   "source": [
    "# Find the mean of the latest array using np.mean()\n",
    "print(np.mean(arr19))"
   ]
  },
  {
   "cell_type": "code",
   "execution_count": 355,
   "metadata": {},
   "outputs": [
    {
     "name": "stdout",
     "output_type": "stream",
     "text": [
      "78.656843831265\n"
     ]
    }
   ],
   "source": [
    "# Find the maximum of the latest array using np.max()\n",
    "print(np.max(arr19))"
   ]
  },
  {
   "cell_type": "code",
   "execution_count": 356,
   "metadata": {},
   "outputs": [
    {
     "name": "stdout",
     "output_type": "stream",
     "text": [
      "0.06476697371139888\n"
     ]
    }
   ],
   "source": [
    "# Find the minimum of the latest array using np.min()\n",
    "print(np.min(arr19))"
   ]
  },
  {
   "cell_type": "code",
   "execution_count": 357,
   "metadata": {},
   "outputs": [
    {
     "name": "stdout",
     "output_type": "stream",
     "text": [
      "24.496678378416078\n"
     ]
    }
   ],
   "source": [
    "# Find the standard deviation of the latest array\n",
    "print(np.std(arr19))"
   ]
  },
  {
   "cell_type": "code",
   "execution_count": 358,
   "metadata": {},
   "outputs": [
    {
     "name": "stdout",
     "output_type": "stream",
     "text": [
      "600.0872515755577\n"
     ]
    }
   ],
   "source": [
    "# Find the variance of the latest array\n",
    "print(np.var(arr19))"
   ]
  },
  {
   "cell_type": "code",
   "execution_count": 359,
   "metadata": {},
   "outputs": [
    {
     "name": "stdout",
     "output_type": "stream",
     "text": [
      "[[[9.21270988e-01]\n",
      "  [3.00004988e-01]\n",
      "  [5.07737580e+00]\n",
      "  [8.33345776e+00]\n",
      "  [2.93604907e+00]]\n",
      "\n",
      " [[5.31058357e+01]\n",
      "  [6.59222708e+00]\n",
      "  [3.27372968e+00]\n",
      "  [1.95979822e+01]\n",
      "  [1.67479219e-01]]\n",
      "\n",
      " [[4.93080600e+01]\n",
      "  [6.47669737e-02]\n",
      "  [7.86568438e+01]\n",
      "  [4.51913030e+01]\n",
      "  [9.74478578e-01]]]\n"
     ]
    }
   ],
   "source": [
    "# Reshape the latest array to (3, 5, 1)\n",
    "arr20 = arr19.reshape(3, 5, 1)\n",
    "print(arr20)"
   ]
  },
  {
   "cell_type": "code",
   "execution_count": 360,
   "metadata": {},
   "outputs": [
    {
     "name": "stdout",
     "output_type": "stream",
     "text": [
      "[[[9.21270988e-01 5.31058357e+01 4.93080600e+01]\n",
      "  [3.00004988e-01 6.59222708e+00 6.47669737e-02]\n",
      "  [5.07737580e+00 3.27372968e+00 7.86568438e+01]\n",
      "  [8.33345776e+00 1.95979822e+01 4.51913030e+01]\n",
      "  [2.93604907e+00 1.67479219e-01 9.74478578e-01]]]\n"
     ]
    }
   ],
   "source": [
    "# Transpose the latest array\n",
    "arr21 = arr20.transpose()\n",
    "print(arr21)"
   ]
  },
  {
   "cell_type": "markdown",
   "metadata": {},
   "source": [
    "What does the transpose do?"
   ]
  },
  {
   "cell_type": "code",
   "execution_count": 361,
   "metadata": {},
   "outputs": [
    {
     "name": "stdout",
     "output_type": "stream",
     "text": [
      "[[7 2 0]\n",
      " [7 2 2]\n",
      " [0 4 9]] [[6 9]\n",
      " [8 6]\n",
      " [8 7]]\n"
     ]
    }
   ],
   "source": [
    "# Create two arrays of random integers between 0 to 10\n",
    "# one of size (3, 3) the other of size (3, 2)\n",
    "arr22 = np.random.randint(0, 10, size=(3, 3))\n",
    "arr23 = np.random.randint(0, 10, size=(3, 2))\n",
    "print(arr22,arr23)\n"
   ]
  },
  {
   "cell_type": "code",
   "execution_count": 362,
   "metadata": {},
   "outputs": [
    {
     "name": "stdout",
     "output_type": "stream",
     "text": [
      "[[ 58  75]\n",
      " [ 74  89]\n",
      " [104  87]]\n"
     ]
    }
   ],
   "source": [
    "# Perform a dot product on the two newest arrays you created\n",
    "arr24 = np.dot(arr22, arr23)\n",
    "print(arr24)"
   ]
  },
  {
   "cell_type": "code",
   "execution_count": 363,
   "metadata": {},
   "outputs": [
    {
     "name": "stdout",
     "output_type": "stream",
     "text": [
      "[[1 0 6]\n",
      " [6 7 4]\n",
      " [2 7 5]\n",
      " [2 0 2]] [[4 2 0]\n",
      " [4 9 6]\n",
      " [6 8 9]\n",
      " [9 2 6]]\n"
     ]
    }
   ],
   "source": [
    "# Create two arrays of random integers between 0 to 10\n",
    "# both of size (4, 3)\n",
    "arr25 = np.random.randint(0, 10, size=(4, 3))\n",
    "arr26 = np.random.randint(0, 10, size=(4, 3))\n",
    "print(arr25,arr26)\n"
   ]
  },
  {
   "cell_type": "code",
   "execution_count": 364,
   "metadata": {},
   "outputs": [
    {
     "ename": "ValueError",
     "evalue": "shapes (4,3) and (4,3) not aligned: 3 (dim 1) != 4 (dim 0)",
     "output_type": "error",
     "traceback": [
      "\u001b[1;31m---------------------------------------------------------------------------\u001b[0m",
      "\u001b[1;31mValueError\u001b[0m                                Traceback (most recent call last)",
      "\u001b[1;32md:\\SBME\\SBME 4\\Robotics\\Tasks\\Task 0\\numpy-exercises.ipynb Cell 41\u001b[0m line \u001b[0;36m2\n\u001b[0;32m      <a href='vscode-notebook-cell:/d%3A/SBME/SBME%204/Robotics/Tasks/Task%200/numpy-exercises.ipynb#X55sZmlsZQ%3D%3D?line=0'>1</a>\u001b[0m \u001b[39m# Perform a dot product on the two newest arrays you created\u001b[39;00m\n\u001b[1;32m----> <a href='vscode-notebook-cell:/d%3A/SBME/SBME%204/Robotics/Tasks/Task%200/numpy-exercises.ipynb#X55sZmlsZQ%3D%3D?line=1'>2</a>\u001b[0m \u001b[39mprint\u001b[39m(np\u001b[39m.\u001b[39;49mdot(arr25, arr26))\n",
      "\u001b[1;31mValueError\u001b[0m: shapes (4,3) and (4,3) not aligned: 3 (dim 1) != 4 (dim 0)"
     ]
    }
   ],
   "source": [
    "# Perform a dot product on the two newest arrays you created\n",
    "print(np.dot(arr25, arr26))"
   ]
  },
  {
   "cell_type": "markdown",
   "metadata": {},
   "source": [
    "It doesn't work. How would you fix it?"
   ]
  },
  {
   "cell_type": "code",
   "execution_count": 365,
   "metadata": {},
   "outputs": [
    {
     "name": "stdout",
     "output_type": "stream",
     "text": [
      "[[ 58  76  66]\n",
      " [ 70 119 105]\n",
      " [ 88  92  81]]\n"
     ]
    }
   ],
   "source": [
    "# Take the latest two arrays, perform a transpose on one of them and then perform \n",
    "# a dot product on them both\n",
    "arr25 = arr25.transpose()\n",
    "print(np.dot(arr25, arr26))"
   ]
  },
  {
   "cell_type": "markdown",
   "metadata": {},
   "source": [
    "Notice how performing a transpose allows the dot product to happen.\n",
    "\n",
    "Why is this?\n",
    "\n",
    "Checking out the documentation on [`np.dot()`](https://docs.scipy.org/doc/numpy/reference/generated/numpy.dot.html) may help, as well as reading [Math is Fun's guide on the dot product](https://www.mathsisfun.com/algebra/vectors-dot-product.html).\n",
    "\n",
    "Let's now compare arrays."
   ]
  },
  {
   "cell_type": "code",
   "execution_count": 366,
   "metadata": {},
   "outputs": [
    {
     "name": "stdout",
     "output_type": "stream",
     "text": [
      "[[0 3 3 4]\n",
      " [6 6 3 6]\n",
      " [2 5 1 9]\n",
      " [8 4 5 3]]\n",
      "[[9 6 8 6]\n",
      " [0 0 8 8]\n",
      " [3 8 2 6]\n",
      " [5 7 8 4]]\n"
     ]
    }
   ],
   "source": [
    "# Create two arrays of random integers between 0 & 10 of the same shape\n",
    "# and save them to variables\n",
    "arr27 = np.random.randint(0, 10, size=(4, 4))\n",
    "arr28 = np.random.randint(0, 10, size=(4, 4))\n",
    "print(arr27)\n",
    "print(arr28)"
   ]
  },
  {
   "cell_type": "code",
   "execution_count": 367,
   "metadata": {},
   "outputs": [
    {
     "name": "stdout",
     "output_type": "stream",
     "text": [
      "[[False False False False]\n",
      " [ True  True False False]\n",
      " [False False False  True]\n",
      " [ True False False False]]\n"
     ]
    }
   ],
   "source": [
    "# Compare the two arrays with '>'\n",
    "comparison_arr = arr27 > arr28\n",
    "print(comparison_arr)"
   ]
  },
  {
   "cell_type": "markdown",
   "metadata": {},
   "source": [
    "What happens when you compare the arrays with `>`?"
   ]
  },
  {
   "cell_type": "code",
   "execution_count": 368,
   "metadata": {},
   "outputs": [
    {
     "name": "stdout",
     "output_type": "stream",
     "text": [
      "[[False False False False]\n",
      " [ True  True False False]\n",
      " [False False False  True]\n",
      " [ True False False False]]\n"
     ]
    }
   ],
   "source": [
    "# Compare the two arrays with '>='\n",
    "comparison_arr2 = arr27 >= arr28\n",
    "print(comparison_arr2)"
   ]
  },
  {
   "cell_type": "code",
   "execution_count": 369,
   "metadata": {},
   "outputs": [
    {
     "name": "stdout",
     "output_type": "stream",
     "text": [
      "[9 8]\n"
     ]
    }
   ],
   "source": [
    "# Find which elements of the first array are greater than 7\n",
    "gt7 = np.where(arr27 > 7)\n",
    "print(arr27[gt7])"
   ]
  },
  {
   "cell_type": "code",
   "execution_count": 370,
   "metadata": {},
   "outputs": [
    {
     "name": "stdout",
     "output_type": "stream",
     "text": [
      "[]\n"
     ]
    }
   ],
   "source": [
    "# Which parts of each array are equal? (try using '==')\n",
    "equals = np.where(arr27 == arr28)\n",
    "print(arr28[equals])\n"
   ]
  },
  {
   "cell_type": "code",
   "execution_count": 371,
   "metadata": {},
   "outputs": [
    {
     "name": "stdout",
     "output_type": "stream",
     "text": [
      "[0 1 2 3 3 3 3 4 4 5 5 6 6 6 8 9]\n"
     ]
    }
   ],
   "source": [
    "# Sort one of the arrays you just created in ascending order\n",
    "sorted_arr = np.sort(arr27, axis=None)\n",
    "print(sorted_arr)\n"
   ]
  },
  {
   "cell_type": "code",
   "execution_count": 372,
   "metadata": {},
   "outputs": [
    {
     "name": "stdout",
     "output_type": "stream",
     "text": [
      "[ 0 10  8  1  2  6 15  3 13  9 14  4  5  7 12 11]\n"
     ]
    }
   ],
   "source": [
    "# Sort the indexes of one of the arrays you just created\n",
    "sorted_indexes= np.argsort(arr27, axis=None)\n",
    "print(sorted_indexes)\n"
   ]
  },
  {
   "cell_type": "code",
   "execution_count": 373,
   "metadata": {},
   "outputs": [
    {
     "name": "stdout",
     "output_type": "stream",
     "text": [
      "11\n"
     ]
    }
   ],
   "source": [
    "# Find the index with the maximum value in one of the arrays you've created\n",
    "max_index = np.argmax(arr27)\n",
    "print(max_index)"
   ]
  },
  {
   "cell_type": "code",
   "execution_count": 374,
   "metadata": {},
   "outputs": [
    {
     "name": "stdout",
     "output_type": "stream",
     "text": [
      "0\n"
     ]
    }
   ],
   "source": [
    "# Find the index with the minimum value in one of the arrays you've created\n",
    "min_index = np.argmin(arr27)\n",
    "print(min_index)\n"
   ]
  },
  {
   "cell_type": "code",
   "execution_count": 375,
   "metadata": {},
   "outputs": [
    {
     "name": "stdout",
     "output_type": "stream",
     "text": [
      "[3 0 3 0]\n"
     ]
    }
   ],
   "source": [
    "# Find the indexes with the maximum values down the 1st axis (axis=1)\n",
    "# of one of the arrays you created\n",
    "max_index_axis1 = np.argmax(arr27,axis=1)\n",
    "print(max_index_axis1)"
   ]
  },
  {
   "cell_type": "code",
   "execution_count": 376,
   "metadata": {},
   "outputs": [
    {
     "name": "stdout",
     "output_type": "stream",
     "text": [
      "[0 0 2 3]\n"
     ]
    }
   ],
   "source": [
    "# Find the indexes with the minimum values across the 0th axis (axis=0)\n",
    "# of one of the arrays you created\n",
    "min_index_axis1 = np.argmin(arr27,axis=0)\n",
    "print(min_index_axis1)"
   ]
  },
  {
   "cell_type": "code",
   "execution_count": 377,
   "metadata": {},
   "outputs": [
    {
     "name": "stdout",
     "output_type": "stream",
     "text": [
      "[[-1.0962658   0.91488432 -0.66606062 -0.51378749  0.3013228 ]\n",
      " [-1.45851692 -0.66273831 -0.14647281 -0.84601702 -0.82248937]\n",
      " [ 1.08672702  1.00498688 -0.44176602 -0.08416509  1.23701607]\n",
      " [-1.42647888  0.33802266  1.9745712   1.96503476 -1.93991122]]\n"
     ]
    }
   ],
   "source": [
    "# Create an array of normally distributed random numbers\n",
    "arr29 = np.random.normal(size=(4,5))\n",
    "print(arr29)"
   ]
  },
  {
   "cell_type": "code",
   "execution_count": 378,
   "metadata": {},
   "outputs": [
    {
     "name": "stdout",
     "output_type": "stream",
     "text": [
      "[  1.  12.  23.  34.  45.  56.  67.  78.  89. 100.]\n"
     ]
    }
   ],
   "source": [
    "# Create an array with 10 evenly spaced numbers between 1 and 100\n",
    "arr30 = np.linspace(1, 100, num=10)\n",
    "print(arr30)"
   ]
  },
  {
   "cell_type": "markdown",
   "metadata": {},
   "source": [
    "## Extensions\n",
    "\n",
    "For more exercises, check out the [NumPy quickstart tutorial](https://numpy.org/doc/stable/user/quickstart.html). A good practice would be to read through it and for the parts you find interesting, add them into the end of this notebook.\n",
    "\n",
    "Pay particular attention to the section on broadcasting. And most importantly, get hands-on with the code as much as possible. If in dobut, run the code, see what it does.\n",
    "\n",
    "The next place you could go is the [Stack Overflow page for the top questions and answers for NumPy](https://stackoverflow.com/questions/tagged/numpy?sort=MostVotes&edited=true). Often, you'll find some of the most common and useful NumPy functions here. Don't forget to play around with the filters! You'll likely find something helpful here.\n",
    "\n",
    "Finally, as always, remember, the best way to learn something new is to try it. And try it relentlessly. If you get interested in some kind of NumPy function, asking yourself, \"I wonder if NumPy could do that?\", go and find out."
   ]
  }
 ],
 "metadata": {
  "kernelspec": {
   "display_name": "Python 3",
   "language": "python",
   "name": "python3"
  },
  "language_info": {
   "codemirror_mode": {
    "name": "ipython",
    "version": 3
   },
   "file_extension": ".py",
   "mimetype": "text/x-python",
   "name": "python",
   "nbconvert_exporter": "python",
   "pygments_lexer": "ipython3",
   "version": "3.8.3"
  }
 },
 "nbformat": 4,
 "nbformat_minor": 2
}
