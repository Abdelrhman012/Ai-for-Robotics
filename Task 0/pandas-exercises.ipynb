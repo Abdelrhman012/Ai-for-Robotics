{
 "cells": [
  {
   "cell_type": "markdown",
   "metadata": {},
   "source": [
    "# Pandas Practice\n",
    "\n",
    "This notebook is dedicated to practicing different tasks with pandas. The solutions are available,  however, you should always try to figure them out yourself first.\n",
    "\n",
    "It should be noted there may be more than one different way to answer a question or complete an exercise.\n",
    "\n",
    "Different tasks will be detailed by comments or text.\n",
    "\n",
    "For further reference and resources, it's advised to check out the [pandas documentation](https://pandas.pydata.org/pandas-docs/stable/)."
   ]
  },
  {
   "cell_type": "code",
   "execution_count": 335,
   "metadata": {},
   "outputs": [],
   "source": [
    "# Import pandas\n",
    "import pandas as pd"
   ]
  },
  {
   "cell_type": "code",
   "execution_count": 336,
   "metadata": {},
   "outputs": [],
   "source": [
    "# Create a series of three different colours\n",
    "colours = pd.Series([\"red\", \"blue\", \"yellow\"])"
   ]
  },
  {
   "cell_type": "code",
   "execution_count": 337,
   "metadata": {},
   "outputs": [
    {
     "data": {
      "text/plain": [
       "0       red\n",
       "1      blue\n",
       "2    yellow\n",
       "dtype: object"
      ]
     },
     "execution_count": 337,
     "metadata": {},
     "output_type": "execute_result"
    }
   ],
   "source": [
    "# View the series of different colours\n",
    "colours"
   ]
  },
  {
   "cell_type": "code",
   "execution_count": 338,
   "metadata": {},
   "outputs": [
    {
     "data": {
      "text/plain": [
       "0    KIA\n",
       "1    BYD\n",
       "2    BMW\n",
       "dtype: object"
      ]
     },
     "execution_count": 338,
     "metadata": {},
     "output_type": "execute_result"
    }
   ],
   "source": [
    "# Create a series of three different car types and view it\n",
    "cars = pd.Series([\"KIA\",\"BYD\",\"BMW\"])\n",
    "cars"
   ]
  },
  {
   "cell_type": "code",
   "execution_count": 339,
   "metadata": {},
   "outputs": [
    {
     "name": "stdout",
     "output_type": "stream",
     "text": [
      "   colour  car\n",
      "0     red  KIA\n",
      "1    blue  BYD\n",
      "2  yellow  BMW\n"
     ]
    }
   ],
   "source": [
    "# Combine the Series of cars and colours into a DataFrame\n",
    "colours_and_cars = pd.concat([colours, cars], axis=1)\n",
    "colours_and_cars.columns = ['colour', 'car']\n",
    "\n",
    "print(colours_and_cars)"
   ]
  },
  {
   "cell_type": "code",
   "execution_count": 340,
   "metadata": {},
   "outputs": [
    {
     "name": "stdout",
     "output_type": "stream",
     "text": [
      "     Make Colour  Odometer (KM)  Doors       Price\n",
      "0  Toyota  White         150043      4   $4,000.00\n",
      "1   Honda    Red          87899      4   $5,000.00\n",
      "2  Toyota   Blue          32549      3   $7,000.00\n",
      "3     BMW  Black          11179      5  $22,000.00\n",
      "4  Nissan  White         213095      4   $3,500.00\n"
     ]
    }
   ],
   "source": [
    "# Import \"../data/car-sales.csv\" and turn it into a DataFrame\n",
    "car_sales = pd.read_csv('../Task 0/data/car-sales.csv')\n",
    "print(car_sales.head())"
   ]
  },
  {
   "cell_type": "code",
   "execution_count": 341,
   "metadata": {},
   "outputs": [],
   "source": [
    "# Export the DataFrame you created to a .csv file\n",
    "colours_and_cars.to_csv('colours_and_cars.csv', index=False)\n"
   ]
  },
  {
   "cell_type": "code",
   "execution_count": 342,
   "metadata": {},
   "outputs": [
    {
     "name": "stdout",
     "output_type": "stream",
     "text": [
      "Make             object\n",
      "Colour           object\n",
      "Odometer (KM)     int64\n",
      "Doors             int64\n",
      "Price            object\n",
      "dtype: object\n"
     ]
    }
   ],
   "source": [
    "# Find the different datatypes of the car data DataFrame\n",
    "print(car_sales.dtypes)"
   ]
  },
  {
   "cell_type": "code",
   "execution_count": 343,
   "metadata": {},
   "outputs": [
    {
     "data": {
      "text/html": [
       "<div>\n",
       "<style scoped>\n",
       "    .dataframe tbody tr th:only-of-type {\n",
       "        vertical-align: middle;\n",
       "    }\n",
       "\n",
       "    .dataframe tbody tr th {\n",
       "        vertical-align: top;\n",
       "    }\n",
       "\n",
       "    .dataframe thead th {\n",
       "        text-align: right;\n",
       "    }\n",
       "</style>\n",
       "<table border=\"1\" class=\"dataframe\">\n",
       "  <thead>\n",
       "    <tr style=\"text-align: right;\">\n",
       "      <th></th>\n",
       "      <th>Odometer (KM)</th>\n",
       "      <th>Doors</th>\n",
       "    </tr>\n",
       "  </thead>\n",
       "  <tbody>\n",
       "    <tr>\n",
       "      <th>count</th>\n",
       "      <td>10.000000</td>\n",
       "      <td>10.000000</td>\n",
       "    </tr>\n",
       "    <tr>\n",
       "      <th>mean</th>\n",
       "      <td>78601.400000</td>\n",
       "      <td>4.000000</td>\n",
       "    </tr>\n",
       "    <tr>\n",
       "      <th>std</th>\n",
       "      <td>61983.471735</td>\n",
       "      <td>0.471405</td>\n",
       "    </tr>\n",
       "    <tr>\n",
       "      <th>min</th>\n",
       "      <td>11179.000000</td>\n",
       "      <td>3.000000</td>\n",
       "    </tr>\n",
       "    <tr>\n",
       "      <th>25%</th>\n",
       "      <td>35836.250000</td>\n",
       "      <td>4.000000</td>\n",
       "    </tr>\n",
       "    <tr>\n",
       "      <th>50%</th>\n",
       "      <td>57369.000000</td>\n",
       "      <td>4.000000</td>\n",
       "    </tr>\n",
       "    <tr>\n",
       "      <th>75%</th>\n",
       "      <td>96384.500000</td>\n",
       "      <td>4.000000</td>\n",
       "    </tr>\n",
       "    <tr>\n",
       "      <th>max</th>\n",
       "      <td>213095.000000</td>\n",
       "      <td>5.000000</td>\n",
       "    </tr>\n",
       "  </tbody>\n",
       "</table>\n",
       "</div>"
      ],
      "text/plain": [
       "       Odometer (KM)      Doors\n",
       "count      10.000000  10.000000\n",
       "mean    78601.400000   4.000000\n",
       "std     61983.471735   0.471405\n",
       "min     11179.000000   3.000000\n",
       "25%     35836.250000   4.000000\n",
       "50%     57369.000000   4.000000\n",
       "75%     96384.500000   4.000000\n",
       "max    213095.000000   5.000000"
      ]
     },
     "execution_count": 343,
     "metadata": {},
     "output_type": "execute_result"
    }
   ],
   "source": [
    "# Describe your current car sales DataFrame using describe()\n",
    "\n",
    "# car_sales_price = car_sales['Price'] = car_sales['Price'].str.replace(',', '').str[1:-3].astype(float)\n",
    "car_sales.describe()"
   ]
  },
  {
   "cell_type": "code",
   "execution_count": 344,
   "metadata": {},
   "outputs": [
    {
     "name": "stdout",
     "output_type": "stream",
     "text": [
      "<class 'pandas.core.frame.DataFrame'>\n",
      "RangeIndex: 3 entries, 0 to 2\n",
      "Data columns (total 2 columns):\n",
      " #   Column  Non-Null Count  Dtype \n",
      "---  ------  --------------  ----- \n",
      " 0   colour  3 non-null      object\n",
      " 1   car     3 non-null      object\n",
      "dtypes: object(2)\n",
      "memory usage: 180.0+ bytes\n"
     ]
    }
   ],
   "source": [
    "# Get information about your DataFrame using info()\n",
    "colours_and_cars.info()"
   ]
  },
  {
   "cell_type": "markdown",
   "metadata": {},
   "source": [
    "What does it show you?"
   ]
  },
  {
   "cell_type": "code",
   "execution_count": 345,
   "metadata": {},
   "outputs": [
    {
     "name": "stdout",
     "output_type": "stream",
     "text": [
      "5.4\n"
     ]
    }
   ],
   "source": [
    "# Create a Series of different numbers and find the mean of them\n",
    "different_numbers = pd.Series([1,5,4,8,9])\n",
    "print(different_numbers.mean())"
   ]
  },
  {
   "cell_type": "code",
   "execution_count": 346,
   "metadata": {},
   "outputs": [
    {
     "name": "stdout",
     "output_type": "stream",
     "text": [
      "15\n"
     ]
    }
   ],
   "source": [
    "# Create a Series of different numbers and find the sum of them\n",
    "different_numbers2 = pd.Series([1,2,3,4,5])\n",
    "print(different_numbers2.sum())"
   ]
  },
  {
   "cell_type": "code",
   "execution_count": 347,
   "metadata": {},
   "outputs": [
    {
     "name": "stdout",
     "output_type": "stream",
     "text": [
      "['Make' 'Colour' 'Odometer (KM)' 'Doors' 'Price']\n"
     ]
    }
   ],
   "source": [
    "# List out all the column names of the car sales DataFrame\n",
    "print(car_sales.columns.values)"
   ]
  },
  {
   "cell_type": "code",
   "execution_count": 348,
   "metadata": {},
   "outputs": [
    {
     "name": "stdout",
     "output_type": "stream",
     "text": [
      "10\n"
     ]
    }
   ],
   "source": [
    "# Find the length of the car sales DataFrame\n",
    "print(len(car_sales))"
   ]
  },
  {
   "cell_type": "code",
   "execution_count": 349,
   "metadata": {},
   "outputs": [
    {
     "name": "stdout",
     "output_type": "stream",
     "text": [
      "     Make Colour  Odometer (KM)  Doors       Price\n",
      "0  Toyota  White         150043      4   $4,000.00\n",
      "1   Honda    Red          87899      4   $5,000.00\n",
      "2  Toyota   Blue          32549      3   $7,000.00\n",
      "3     BMW  Black          11179      5  $22,000.00\n",
      "4  Nissan  White         213095      4   $3,500.00\n"
     ]
    }
   ],
   "source": [
    "# Show the first 5 rows of the car sales DataFrame\n",
    "print(car_sales.head(5))"
   ]
  },
  {
   "cell_type": "code",
   "execution_count": 350,
   "metadata": {},
   "outputs": [
    {
     "name": "stdout",
     "output_type": "stream",
     "text": [
      "     Make Colour  Odometer (KM)  Doors       Price\n",
      "0  Toyota  White         150043      4   $4,000.00\n",
      "1   Honda    Red          87899      4   $5,000.00\n",
      "2  Toyota   Blue          32549      3   $7,000.00\n",
      "3     BMW  Black          11179      5  $22,000.00\n",
      "4  Nissan  White         213095      4   $3,500.00\n",
      "5  Toyota  Green          99213      4   $4,500.00\n",
      "6   Honda   Blue          45698      4   $7,500.00\n"
     ]
    }
   ],
   "source": [
    "# Show the first 7 rows of the car sales DataFrame\n",
    "print(car_sales.head(7))"
   ]
  },
  {
   "cell_type": "code",
   "execution_count": 351,
   "metadata": {},
   "outputs": [
    {
     "name": "stdout",
     "output_type": "stream",
     "text": [
      "     Make Colour  Odometer (KM)  Doors      Price\n",
      "5  Toyota  Green          99213      4  $4,500.00\n",
      "6   Honda   Blue          45698      4  $7,500.00\n",
      "7   Honda   Blue          54738      4  $7,000.00\n",
      "8  Toyota  White          60000      4  $6,250.00\n",
      "9  Nissan  White          31600      4  $9,700.00\n"
     ]
    }
   ],
   "source": [
    "# Show the bottom 5 rows of the car sales DataFrame\n",
    "print(car_sales.tail(5))"
   ]
  },
  {
   "cell_type": "code",
   "execution_count": 352,
   "metadata": {},
   "outputs": [
    {
     "name": "stdout",
     "output_type": "stream",
     "text": [
      "Make                    BMW\n",
      "Colour                Black\n",
      "Odometer (KM)         11179\n",
      "Doors                     5\n",
      "Price            $22,000.00\n",
      "Name: 3, dtype: object\n"
     ]
    }
   ],
   "source": [
    "# Use .loc to select the row at index 3 of the car sales DataFrame\n",
    "print(car_sales.loc[3])"
   ]
  },
  {
   "cell_type": "code",
   "execution_count": 353,
   "metadata": {},
   "outputs": [
    {
     "name": "stdout",
     "output_type": "stream",
     "text": [
      "Make                    BMW\n",
      "Colour                Black\n",
      "Odometer (KM)         11179\n",
      "Doors                     5\n",
      "Price            $22,000.00\n",
      "Name: 3, dtype: object\n"
     ]
    }
   ],
   "source": [
    "# Use .iloc to select the row at position 3 of the car sales DataFrame\n",
    "print(car_sales.iloc[3])"
   ]
  },
  {
   "cell_type": "markdown",
   "metadata": {},
   "source": [
    "Notice how they're the same? Why do you think this is? \n",
    "\n",
    "Check the pandas documentation for [.loc](https://pandas.pydata.org/pandas-docs/stable/reference/api/pandas.DataFrame.loc.html) and [.iloc](https://pandas.pydata.org/pandas-docs/stable/reference/api/pandas.DataFrame.iloc.html). Think about a different situation each could be used for and try them out."
   ]
  },
  {
   "cell_type": "code",
   "execution_count": 354,
   "metadata": {},
   "outputs": [
    {
     "name": "stdout",
     "output_type": "stream",
     "text": [
      "0    150043\n",
      "1     87899\n",
      "2     32549\n",
      "3     11179\n",
      "4    213095\n",
      "5     99213\n",
      "6     45698\n",
      "7     54738\n",
      "8     60000\n",
      "9     31600\n",
      "Name: Odometer (KM), dtype: int64\n"
     ]
    }
   ],
   "source": [
    "# Select the \"Odometer (KM)\" column from the car sales DataFrame\n",
    "print(car_sales[\"Odometer (KM)\"])"
   ]
  },
  {
   "cell_type": "code",
   "execution_count": 355,
   "metadata": {},
   "outputs": [
    {
     "name": "stdout",
     "output_type": "stream",
     "text": [
      "78601.4\n"
     ]
    }
   ],
   "source": [
    "# Find the mean of the \"Odometer (KM)\" column in the car sales DataFrame\n",
    "print(car_sales[\"Odometer (KM)\"].mean())"
   ]
  },
  {
   "cell_type": "code",
   "execution_count": 356,
   "metadata": {},
   "outputs": [
    {
     "name": "stdout",
     "output_type": "stream",
     "text": [
      "     Make Colour  Odometer (KM)  Doors      Price\n",
      "0  Toyota  White         150043      4  $4,000.00\n",
      "4  Nissan  White         213095      4  $3,500.00\n"
     ]
    }
   ],
   "source": [
    "# Select the rows with over 100,000 kilometers on the Odometer\n",
    "print(car_sales[car_sales[\"Odometer (KM)\"]>100000])"
   ]
  },
  {
   "cell_type": "code",
   "execution_count": 357,
   "metadata": {},
   "outputs": [
    {
     "name": "stdout",
     "output_type": "stream",
     "text": [
      "Doors   3  4  5\n",
      "Make           \n",
      "BMW     0  0  1\n",
      "Honda   0  3  0\n",
      "Nissan  0  2  0\n",
      "Toyota  1  3  0\n"
     ]
    }
   ],
   "source": [
    "# Create a crosstab of the Make and Doors columns\n",
    "print(pd.crosstab(car_sales['Make'], car_sales['Doors']))"
   ]
  },
  {
   "cell_type": "code",
   "execution_count": 358,
   "metadata": {},
   "outputs": [
    {
     "name": "stdout",
     "output_type": "stream",
     "text": [
      "<pandas.core.groupby.generic.DataFrameGroupBy object at 0x0000021E20C1B290>\n"
     ]
    }
   ],
   "source": [
    "# Group columns of the car sales DataFrame by the Make column and find the average\n",
    "grouped_car_sales= car_sales.groupby('Make')\n",
    "print(grouped_car_sales)\n"
   ]
  },
  {
   "cell_type": "code",
   "execution_count": 359,
   "metadata": {},
   "outputs": [],
   "source": [
    "# Import Matplotlib and create a plot of the Odometer column\n",
    "# Don't forget to use %matplotlib inline\n",
    "import matplotlib.pyplot as plt\n",
    "%matplotlib inline"
   ]
  },
  {
   "cell_type": "code",
   "execution_count": 360,
   "metadata": {},
   "outputs": [
    {
     "data": {
      "text/plain": [
       "(array([1., 3., 2., 1., 1., 0., 1., 0., 0., 1.]),\n",
       " array([ 11179. ,  31370.6,  51562.2,  71753.8,  91945.4, 112137. ,\n",
       "        132328.6, 152520.2, 172711.8, 192903.4, 213095. ]),\n",
       " <BarContainer object of 10 artists>)"
      ]
     },
     "execution_count": 360,
     "metadata": {},
     "output_type": "execute_result"
    },
    {
     "data": {
      "image/png": "[encoded data removed]",
      "text/plain": [
       "<Figure size 640x480 with 1 Axes>"
      ]
     },
     "metadata": {},
     "output_type": "display_data"
    }
   ],
   "source": [
    "# Create a histogram of the Odometer column using hist()\n",
    "plt.hist(car_sales['Odometer (KM)'])"
   ]
  },
  {
   "cell_type": "code",
   "execution_count": 361,
   "metadata": {},
   "outputs": [
    {
     "ename": "TypeError",
     "evalue": "no numeric data to plot",
     "output_type": "error",
     "traceback": [
      "\u001b[1;31m---------------------------------------------------------------------------\u001b[0m",
      "\u001b[1;31mTypeError\u001b[0m                                 Traceback (most recent call last)",
      "\u001b[1;32md:\\SBME\\SBME 4\\Robotics\\Tasks\\Task 0\\pandas-exercises.ipynb Cell 30\u001b[0m line \u001b[0;36m2\n\u001b[0;32m      <a href='vscode-notebook-cell:/d%3A/SBME/SBME%204/Robotics/Tasks/Task%200/pandas-exercises.ipynb#X41sZmlsZQ%3D%3D?line=0'>1</a>\u001b[0m \u001b[39m# Try to plot the Price column using plot()\u001b[39;00m\n\u001b[1;32m----> <a href='vscode-notebook-cell:/d%3A/SBME/SBME%204/Robotics/Tasks/Task%200/pandas-exercises.ipynb#X41sZmlsZQ%3D%3D?line=1'>2</a>\u001b[0m car_sales[\u001b[39m'\u001b[39;49m\u001b[39mPrice\u001b[39;49m\u001b[39m'\u001b[39;49m]\u001b[39m.\u001b[39;49mplot()\n",
      "File \u001b[1;32m~\\AppData\\Local\\Packages\\PythonSoftwareFoundation.Python.3.11_qbz5n2kfra8p0\\LocalCache\\local-packages\\Python311\\site-packages\\pandas\\plotting\\_core.py:1031\u001b[0m, in \u001b[0;36mPlotAccessor.__call__\u001b[1;34m(self, *args, **kwargs)\u001b[0m\n\u001b[0;32m   1028\u001b[0m             label_name \u001b[39m=\u001b[39m label_kw \u001b[39mor\u001b[39;00m data\u001b[39m.\u001b[39mcolumns\n\u001b[0;32m   1029\u001b[0m             data\u001b[39m.\u001b[39mcolumns \u001b[39m=\u001b[39m label_name\n\u001b[1;32m-> 1031\u001b[0m \u001b[39mreturn\u001b[39;00m plot_backend\u001b[39m.\u001b[39;49mplot(data, kind\u001b[39m=\u001b[39;49mkind, \u001b[39m*\u001b[39;49m\u001b[39m*\u001b[39;49mkwargs)\n",
      "File \u001b[1;32m~\\AppData\\Local\\Packages\\PythonSoftwareFoundation.Python.3.11_qbz5n2kfra8p0\\LocalCache\\local-packages\\Python311\\site-packages\\pandas\\plotting\\_matplotlib\\__init__.py:71\u001b[0m, in \u001b[0;36mplot\u001b[1;34m(data, kind, **kwargs)\u001b[0m\n\u001b[0;32m     69\u001b[0m         kwargs[\u001b[39m\"\u001b[39m\u001b[39max\u001b[39m\u001b[39m\"\u001b[39m] \u001b[39m=\u001b[39m \u001b[39mgetattr\u001b[39m(ax, \u001b[39m\"\u001b[39m\u001b[39mleft_ax\u001b[39m\u001b[39m\"\u001b[39m, ax)\n\u001b[0;32m     70\u001b[0m plot_obj \u001b[39m=\u001b[39m PLOT_CLASSES[kind](data, \u001b[39m*\u001b[39m\u001b[39m*\u001b[39mkwargs)\n\u001b[1;32m---> 71\u001b[0m plot_obj\u001b[39m.\u001b[39;49mgenerate()\n\u001b[0;32m     72\u001b[0m plot_obj\u001b[39m.\u001b[39mdraw()\n\u001b[0;32m     73\u001b[0m \u001b[39mreturn\u001b[39;00m plot_obj\u001b[39m.\u001b[39mresult\n",
      "File \u001b[1;32m~\\AppData\\Local\\Packages\\PythonSoftwareFoundation.Python.3.11_qbz5n2kfra8p0\\LocalCache\\local-packages\\Python311\\site-packages\\pandas\\plotting\\_matplotlib\\core.py:451\u001b[0m, in \u001b[0;36mMPLPlot.generate\u001b[1;34m(self)\u001b[0m\n\u001b[0;32m    449\u001b[0m \u001b[39mdef\u001b[39;00m \u001b[39mgenerate\u001b[39m(\u001b[39mself\u001b[39m) \u001b[39m-\u001b[39m\u001b[39m>\u001b[39m \u001b[39mNone\u001b[39;00m:\n\u001b[0;32m    450\u001b[0m     \u001b[39mself\u001b[39m\u001b[39m.\u001b[39m_args_adjust()\n\u001b[1;32m--> 451\u001b[0m     \u001b[39mself\u001b[39;49m\u001b[39m.\u001b[39;49m_compute_plot_data()\n\u001b[0;32m    452\u001b[0m     \u001b[39mself\u001b[39m\u001b[39m.\u001b[39m_setup_subplots()\n\u001b[0;32m    453\u001b[0m     \u001b[39mself\u001b[39m\u001b[39m.\u001b[39m_make_plot()\n",
      "File \u001b[1;32m~\\AppData\\Local\\Packages\\PythonSoftwareFoundation.Python.3.11_qbz5n2kfra8p0\\LocalCache\\local-packages\\Python311\\site-packages\\pandas\\plotting\\_matplotlib\\core.py:636\u001b[0m, in \u001b[0;36mMPLPlot._compute_plot_data\u001b[1;34m(self)\u001b[0m\n\u001b[0;32m    634\u001b[0m \u001b[39m# no non-numeric frames or series allowed\u001b[39;00m\n\u001b[0;32m    635\u001b[0m \u001b[39mif\u001b[39;00m is_empty:\n\u001b[1;32m--> 636\u001b[0m     \u001b[39mraise\u001b[39;00m \u001b[39mTypeError\u001b[39;00m(\u001b[39m\"\u001b[39m\u001b[39mno numeric data to plot\u001b[39m\u001b[39m\"\u001b[39m)\n\u001b[0;32m    638\u001b[0m \u001b[39mself\u001b[39m\u001b[39m.\u001b[39mdata \u001b[39m=\u001b[39m numeric_data\u001b[39m.\u001b[39mapply(\u001b[39mself\u001b[39m\u001b[39m.\u001b[39m_convert_to_ndarray)\n",
      "\u001b[1;31mTypeError\u001b[0m: no numeric data to plot"
     ]
    }
   ],
   "source": [
    "# Try to plot the Price column using plot()\n",
    "car_sales['Price'].plot()\n"
   ]
  },
  {
   "cell_type": "markdown",
   "metadata": {},
   "source": [
    "Why didn't it work? Can you think of a solution?\n",
    "\n",
    "You might want to search for \"how to convert a pandas string column to numbers\".\n",
    "\n",
    "And if you're still stuck, check out this [Stack Overflow question and answer on turning a price column into integers](https://stackoverflow.com/questions/44469313/price-column-object-to-int-in-pandas).\n",
    "\n",
    "See how you can provide the example code there to the problem here."
   ]
  },
  {
   "cell_type": "code",
   "execution_count": 362,
   "metadata": {},
   "outputs": [],
   "source": [
    "# Remove the punctuation from price column\n",
    "car_sales['Price'] = car_sales['Price'].str.replace('$','').str.replace(',','')\n"
   ]
  },
  {
   "cell_type": "code",
   "execution_count": 363,
   "metadata": {},
   "outputs": [
    {
     "name": "stdout",
     "output_type": "stream",
     "text": [
      "0     4000.00\n",
      "1     5000.00\n",
      "2     7000.00\n",
      "3    22000.00\n",
      "4     3500.00\n",
      "5     4500.00\n",
      "6     7500.00\n",
      "7     7000.00\n",
      "8     6250.00\n",
      "9     9700.00\n",
      "Name: Price, dtype: object\n"
     ]
    }
   ],
   "source": [
    "# Check the changes to the price column\n",
    "print(car_sales['Price'])\n"
   ]
  },
  {
   "cell_type": "code",
   "execution_count": 364,
   "metadata": {},
   "outputs": [],
   "source": [
    "# Remove the two extra zeros at the end of the price column\n",
    "car_sales['Price'] = car_sales['Price'].str[:-3]\n"
   ]
  },
  {
   "cell_type": "code",
   "execution_count": 365,
   "metadata": {},
   "outputs": [
    {
     "name": "stdout",
     "output_type": "stream",
     "text": [
      "0     4000\n",
      "1     5000\n",
      "2     7000\n",
      "3    22000\n",
      "4     3500\n",
      "5     4500\n",
      "6     7500\n",
      "7     7000\n",
      "8     6250\n",
      "9     9700\n",
      "Name: Price, dtype: object\n"
     ]
    }
   ],
   "source": [
    "# Check the changes to the Price column\n",
    "print(car_sales['Price'])"
   ]
  },
  {
   "cell_type": "code",
   "execution_count": 366,
   "metadata": {},
   "outputs": [],
   "source": [
    "# Change the datatype of the Price column to integers\n",
    "car_sales['Price'] = car_sales['Price'].astype(int)\n"
   ]
  },
  {
   "cell_type": "code",
   "execution_count": 367,
   "metadata": {},
   "outputs": [
    {
     "name": "stdout",
     "output_type": "stream",
     "text": [
      "0     4000\n",
      "1     5000\n",
      "2     7000\n",
      "3    22000\n",
      "4     3500\n",
      "5     4500\n",
      "6     7500\n",
      "7     7000\n",
      "8     6250\n",
      "9     9700\n",
      "Name: Price, dtype: int32\n"
     ]
    }
   ],
   "source": [
    "# Lower the strings of the Make column\n",
    "print(car_sales['Price'])"
   ]
  },
  {
   "cell_type": "markdown",
   "metadata": {},
   "source": [
    "If you check the car sales DataFrame, you'll notice the Make column hasn't been lowered.\n",
    "\n",
    "How could you make these changes permanent?\n",
    "\n",
    "Try it out."
   ]
  },
  {
   "cell_type": "code",
   "execution_count": 368,
   "metadata": {},
   "outputs": [],
   "source": [
    "# Make lowering the case of the Make column permanent\n",
    "car_sales['Make'] = car_sales['Make'].str.lower()"
   ]
  },
  {
   "cell_type": "code",
   "execution_count": 369,
   "metadata": {},
   "outputs": [
    {
     "name": "stdout",
     "output_type": "stream",
     "text": [
      "     Make Colour  Odometer (KM)  Doors  Price\n",
      "0  toyota  White         150043      4   4000\n",
      "1   honda    Red          87899      4   5000\n",
      "2  toyota   Blue          32549      3   7000\n",
      "3     bmw  Black          11179      5  22000\n",
      "4  nissan  White         213095      4   3500\n",
      "5  toyota  Green          99213      4   4500\n",
      "6   honda   Blue          45698      4   7500\n",
      "7   honda   Blue          54738      4   7000\n",
      "8  toyota  White          60000      4   6250\n",
      "9  nissan  White          31600      4   9700\n"
     ]
    }
   ],
   "source": [
    "# Check the car sales DataFrame\n",
    "print(car_sales)"
   ]
  },
  {
   "cell_type": "markdown",
   "metadata": {},
   "source": [
    "Notice how the Make column stays lowered after reassigning.\n",
    "\n",
    "Now let's deal with missing data."
   ]
  },
  {
   "cell_type": "code",
   "execution_count": 370,
   "metadata": {},
   "outputs": [
    {
     "name": "stdout",
     "output_type": "stream",
     "text": [
      "     Make Colour  Odometer  Doors    Price\n",
      "0  Toyota  White  150043.0    4.0   $4,000\n",
      "1   Honda    Red   87899.0    4.0   $5,000\n",
      "2  Toyota   Blue       NaN    3.0   $7,000\n",
      "3     BMW  Black   11179.0    5.0  $22,000\n",
      "4  Nissan  White  213095.0    4.0   $3,500\n",
      "5  Toyota  Green       NaN    4.0   $4,500\n",
      "6   Honda    NaN       NaN    4.0   $7,500\n",
      "7   Honda   Blue       NaN    4.0      NaN\n",
      "8  Toyota  White   60000.0    NaN      NaN\n",
      "9     NaN  White   31600.0    4.0   $9,700\n"
     ]
    }
   ],
   "source": [
    "# Import the car sales DataFrame with missing data (\"../data/car-sales-missing-data.csv\")\n",
    "cs_missing_data = pd.read_csv('../Task 0/data/car-sales-missing-data.csv')\n",
    "\n",
    "# Check out the new DataFrame\n",
    "print(cs_missing_data)"
   ]
  },
  {
   "cell_type": "markdown",
   "metadata": {},
   "source": [
    "Notice the missing values are represented as `NaN` in pandas DataFrames.\n",
    "\n",
    "Let's try fill them."
   ]
  },
  {
   "cell_type": "code",
   "execution_count": 371,
   "metadata": {},
   "outputs": [],
   "source": [
    "# Fill the Odometer column missing values with the mean of the column inplace\n",
    "cs_missing_data['Odometer'] = cs_missing_data['Odometer'].fillna(cs_missing_data['Odometer'].mean())\n"
   ]
  },
  {
   "cell_type": "code",
   "execution_count": 372,
   "metadata": {},
   "outputs": [
    {
     "name": "stdout",
     "output_type": "stream",
     "text": [
      "     Make Colour       Odometer  Doors    Price\n",
      "0  Toyota  White  150043.000000    4.0   $4,000\n",
      "1   Honda    Red   87899.000000    4.0   $5,000\n",
      "2  Toyota   Blue   92302.666667    3.0   $7,000\n",
      "3     BMW  Black   11179.000000    5.0  $22,000\n",
      "4  Nissan  White  213095.000000    4.0   $3,500\n",
      "5  Toyota  Green   92302.666667    4.0   $4,500\n",
      "6   Honda    NaN   92302.666667    4.0   $7,500\n",
      "7   Honda   Blue   92302.666667    4.0      NaN\n",
      "8  Toyota  White   60000.000000    NaN      NaN\n",
      "9     NaN  White   31600.000000    4.0   $9,700\n"
     ]
    }
   ],
   "source": [
    "# View the car sales missing DataFrame and verify the changes\n",
    "print(cs_missing_data)\n"
   ]
  },
  {
   "cell_type": "code",
   "execution_count": 373,
   "metadata": {},
   "outputs": [],
   "source": [
    "# Remove the rest of the missing data inplace\n",
    "cs_missing_data.dropna(inplace=True)\n"
   ]
  },
  {
   "cell_type": "code",
   "execution_count": 374,
   "metadata": {},
   "outputs": [
    {
     "name": "stdout",
     "output_type": "stream",
     "text": [
      "     Make Colour       Odometer  Doors    Price\n",
      "0  Toyota  White  150043.000000    4.0   $4,000\n",
      "1   Honda    Red   87899.000000    4.0   $5,000\n",
      "2  Toyota   Blue   92302.666667    3.0   $7,000\n",
      "3     BMW  Black   11179.000000    5.0  $22,000\n",
      "4  Nissan  White  213095.000000    4.0   $3,500\n",
      "5  Toyota  Green   92302.666667    4.0   $4,500\n"
     ]
    }
   ],
   "source": [
    "# Verify the missing values are removed by viewing the DataFrame\n",
    "print(cs_missing_data)\n"
   ]
  },
  {
   "cell_type": "markdown",
   "metadata": {},
   "source": [
    "We'll now start to add columns to our DataFrame."
   ]
  },
  {
   "cell_type": "code",
   "execution_count": 375,
   "metadata": {},
   "outputs": [],
   "source": [
    "# Create a \"Seats\" column where every row has a value of 5\n",
    "cs_missing_data['Seats'] = 5"
   ]
  },
  {
   "cell_type": "code",
   "execution_count": 376,
   "metadata": {},
   "outputs": [],
   "source": [
    "# Create a column called \"Engine Size\" with random values between 1.3 and 4.5\n",
    "# Remember: If you're doing it from a Python list, the list has to be the same length\n",
    "# as the DataFrame\n",
    "import numpy as np\n",
    "cs_missing_data['engine Size'] = np.random.uniform(1.3,4.5,size=len(cs_missing_data))"
   ]
  },
  {
   "cell_type": "code",
   "execution_count": 377,
   "metadata": {},
   "outputs": [
    {
     "name": "stdout",
     "output_type": "stream",
     "text": [
      "     Make Colour       Odometer  Doors  Price  Seats  engine Size  price / km\n",
      "0  Toyota  White  150043.000000    4.0   4000      5     3.439910    0.026659\n",
      "1   Honda    Red   87899.000000    4.0   5000      5     3.554491    0.056883\n",
      "2  Toyota   Blue   92302.666667    3.0   7000      5     3.894274    0.075837\n",
      "3     BMW  Black   11179.000000    5.0  22000      5     2.425838    1.967976\n",
      "4  Nissan  White  213095.000000    4.0   3500      5     4.056930    0.016425\n",
      "5  Toyota  Green   92302.666667    4.0   4500      5     2.396848    0.048753\n"
     ]
    }
   ],
   "source": [
    "# Create a column which represents the price of a car per kilometer\n",
    "# Then view the DataFrame\n",
    "cs_missing_data['Price'] = cs_missing_data['Price'].str.replace('$','').str.replace(',','').astype(int)\n",
    "cs_missing_data['price / km'] = cs_missing_data['Price'] / cs_missing_data['Odometer']\n",
    "print(cs_missing_data)\n"
   ]
  },
  {
   "cell_type": "code",
   "execution_count": 378,
   "metadata": {},
   "outputs": [
    {
     "name": "stdout",
     "output_type": "stream",
     "text": [
      "     Make Colour       Odometer  Doors  Price  Seats  engine Size\n",
      "0  Toyota  White  150043.000000    4.0   4000      5     3.439910\n",
      "1   Honda    Red   87899.000000    4.0   5000      5     3.554491\n",
      "2  Toyota   Blue   92302.666667    3.0   7000      5     3.894274\n",
      "3     BMW  Black   11179.000000    5.0  22000      5     2.425838\n",
      "4  Nissan  White  213095.000000    4.0   3500      5     4.056930\n",
      "5  Toyota  Green   92302.666667    4.0   4500      5     2.396848\n"
     ]
    }
   ],
   "source": [
    "# Remove the last column you added using .drop()\n",
    "cs_missing_data.drop('price / km', axis=1, inplace=True)\n",
    "print(cs_missing_data)"
   ]
  },
  {
   "cell_type": "code",
   "execution_count": 379,
   "metadata": {},
   "outputs": [
    {
     "name": "stdout",
     "output_type": "stream",
     "text": [
      "     Make Colour       Odometer  Doors  Price  Seats  engine Size\n",
      "1   Honda    Red   87899.000000    4.0   5000      5     3.554491\n",
      "0  Toyota  White  150043.000000    4.0   4000      5     3.439910\n",
      "2  Toyota   Blue   92302.666667    3.0   7000      5     3.894274\n",
      "4  Nissan  White  213095.000000    4.0   3500      5     4.056930\n",
      "5  Toyota  Green   92302.666667    4.0   4500      5     2.396848\n",
      "3     BMW  Black   11179.000000    5.0  22000      5     2.425838\n"
     ]
    }
   ],
   "source": [
    "# Shuffle the DataFrame using sample() with the frac parameter set to 1\n",
    "# Save the the shuffled DataFrame to a new variable\n",
    "shuffled_df = cs_missing_data.sample(frac=1)\n",
    "print(shuffled_df)"
   ]
  },
  {
   "cell_type": "markdown",
   "metadata": {},
   "source": [
    "Notice how the index numbers get moved around. The [`sample()`](https://pandas.pydata.org/pandas-docs/stable/reference/api/pandas.DataFrame.sample.html) function is a great way to get random samples from your DataFrame. It's also another great way to shuffle the rows by setting `frac=1`."
   ]
  },
  {
   "cell_type": "code",
   "execution_count": 380,
   "metadata": {},
   "outputs": [
    {
     "name": "stdout",
     "output_type": "stream",
     "text": [
      "     Make Colour       Odometer  Doors  Price  Seats  engine Size\n",
      "0   Honda    Red   87899.000000    4.0   5000      5     3.554491\n",
      "1  Toyota  White  150043.000000    4.0   4000      5     3.439910\n",
      "2  Toyota   Blue   92302.666667    3.0   7000      5     3.894274\n",
      "3  Nissan  White  213095.000000    4.0   3500      5     4.056930\n",
      "4  Toyota  Green   92302.666667    4.0   4500      5     2.396848\n",
      "5     BMW  Black   11179.000000    5.0  22000      5     2.425838\n"
     ]
    }
   ],
   "source": [
    "# Reset the indexes of the shuffled DataFrame\n",
    "shuffled_df = shuffled_df.reset_index(drop=True)\n",
    "print(shuffled_df)"
   ]
  },
  {
   "cell_type": "markdown",
   "metadata": {},
   "source": [
    "Notice the index numbers have been changed to have order (start from 0)."
   ]
  },
  {
   "cell_type": "code",
   "execution_count": 381,
   "metadata": {},
   "outputs": [
    {
     "name": "stdout",
     "output_type": "stream",
     "text": [
      "     Make Colour       Odometer  Doors  Price  Seats  engine Size\n",
      "0  Toyota  White   93232.368953    4.0   4000      5     3.439910\n",
      "1   Honda    Red   54617.889529    4.0   5000      5     3.554491\n",
      "2  Toyota   Blue   57354.200289    3.0   7000      5     3.894274\n",
      "3     BMW  Black    6946.306409    5.0  22000      5     2.425838\n",
      "4  Nissan  White  132411.053245    4.0   3500      5     4.056930\n",
      "5  Toyota  Green   57354.200289    4.0   4500      5     2.396848\n"
     ]
    }
   ],
   "source": [
    "# Change the Odometer values from kilometers to miles using a Lambda function\n",
    "# Then view the DataFrame\n",
    "cs_missing_data['Odometer'] = cs_missing_data['Odometer'].apply(lambda x: x * 0.621371)\n",
    "print(cs_missing_data)"
   ]
  },
  {
   "cell_type": "code",
   "execution_count": 382,
   "metadata": {},
   "outputs": [
    {
     "name": "stdout",
     "output_type": "stream",
     "text": [
      "     Make Colour  Odometer (Miles)  Doors  Price  Seats  engine Size\n",
      "0  Toyota  White      93232.368953    4.0   4000      5     3.439910\n",
      "1   Honda    Red      54617.889529    4.0   5000      5     3.554491\n",
      "2  Toyota   Blue      57354.200289    3.0   7000      5     3.894274\n",
      "3     BMW  Black       6946.306409    5.0  22000      5     2.425838\n",
      "4  Nissan  White     132411.053245    4.0   3500      5     4.056930\n",
      "5  Toyota  Green      57354.200289    4.0   4500      5     2.396848\n"
     ]
    }
   ],
   "source": [
    "# Change the title of the Odometer (KM) to represent miles instead of kilometers\n",
    "cs_missing_data.rename(columns={'Odometer': 'Odometer (Miles)'}, inplace=True)\n",
    "print(cs_missing_data)"
   ]
  },
  {
   "cell_type": "markdown",
   "metadata": {},
   "source": [
    "## Extensions\n",
    "\n",
    "For more exercises, check out the pandas documentation, particularly the [10-minutes to pandas section](https://pandas.pydata.org/pandas-docs/stable/user_guide/10min.html). \n",
    "\n",
    "One great exercise would be to retype out the entire section into a Jupyter Notebook of your own.\n",
    "\n",
    "Get hands-on with the code and see what it does.\n",
    "\n",
    "The next place you should check out are the [top questions and answers on Stack Overflow for pandas](https://stackoverflow.com/questions/tagged/pandas?sort=MostVotes&edited=true). Often, these contain some of the most useful and common pandas functions. Be sure to play around with the different filters!\n",
    "\n",
    "Finally, always remember, the best way to learn something new to is try it. Make mistakes. Ask questions, get things wrong, take note of the things you do most often. And don't worry if you keep making the same mistake, pandas has many ways to do the same thing and is a big library. So it'll likely take a while before you get the hang of it."
   ]
  }
 ],
 "metadata": {
  "kernelspec": {
   "display_name": "Python 3",
   "language": "python",
   "name": "python3"
  },
  "language_info": {
   "codemirror_mode": {
    "name": "ipython",
    "version": 3
   },
   "file_extension": ".py",
   "mimetype": "text/x-python",
   "name": "python",
   "nbconvert_exporter": "python",
   "pygments_lexer": "ipython3",
   "version": "3.11.6"
  }
 },
 "nbformat": 4,
 "nbformat_minor": 2
}
